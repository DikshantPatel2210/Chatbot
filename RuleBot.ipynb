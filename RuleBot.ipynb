{
  "nbformat": 4,
  "nbformat_minor": 0,
  "metadata": {
    "colab": {
      "provenance": [],
      "authorship_tag": "ABX9TyM0ZgHV+hkqxvqs33bN2/U3",
      "include_colab_link": true
    },
    "kernelspec": {
      "name": "python3",
      "display_name": "Python 3"
    },
    "language_info": {
      "name": "python"
    }
  },
  "cells": [
    {
      "cell_type": "markdown",
      "metadata": {
        "id": "view-in-github",
        "colab_type": "text"
      },
      "source": [
        "<a href=\"https://colab.research.google.com/github/DikshantPatel2210/Chatbot/blob/main/RuleBot.ipynb\" target=\"_parent\"><img src=\"https://colab.research.google.com/assets/colab-badge.svg\" alt=\"Open In Colab\"/></a>"
      ]
    },
    {
      "cell_type": "code",
      "execution_count": null,
      "metadata": {
        "id": "UWLffjrWS7af"
      },
      "outputs": [],
      "source": [
        "import re\n",
        "import random"
      ]
    },
    {
      "cell_type": "code",
      "source": [
        "from os import sendfile\n",
        "class RuleBot :\n",
        "  ### Negative Responses\n",
        "  negative_responses = (\"no\", \"nope\"  \"nah\", \"not a chance\", \"sorry\")\n",
        "  ### Exit conversation Keywords\n",
        "  exit_commands = ( \"quit\", \"pause\", \"exit\", \"goodbye\", \"bye\", \"later\")\n",
        "  ### Random staterr question\n",
        "  random_questions = (\n",
        "      \"Why are you here? \",\n",
        "      \"Are there many humans like you? \",\n",
        "      \"What do you consume for sustenance? \",\n",
        "      \"Is there intelligent life on this planet? \",\n",
        "      \"Does Earth have a leader? \",\n",
        "      \"What planet have you visited? \",\n",
        "      \"What technology do you have on this planet? \",\n",
        "    )\n",
        "  def __init__(self):\n",
        "    self.alienbabble = { \"describe_planet_intnt\" : r'.*\\s\\*your planet.*',\n",
        "                         \"answer_why_intent\" : r'why\\sare.*',\n",
        "                         \"about_python\" : r'.*\\s*python',\n",
        "                         \"about_session\" : r'.*\\s*session',\n",
        "                        }\n",
        "\n",
        "\n",
        "  def greet(self) :\n",
        "    self.name = input(\"What is your name? \\n\")\n",
        "    will_help = input(\n",
        "        f\"Hi {self.name}, I am Rule- Bot. Will you help me learn about your planet? \\n\")\n",
        "    if will_help in self.negative_responses :\n",
        "        print(\"Ok, have a nice Earth day!\")\n",
        "        return\n",
        "    self.chat()\n",
        "\n",
        "  def make_exit(self, reply) :\n",
        "    for command in self.exit_commands :\n",
        "      if reply == command :\n",
        "        print(\"Okay, have a nice Earth day!\")\n",
        "        return True\n",
        "\n",
        "  def chat(self) :\n",
        "    reply = input(random.choice(self.random_questions)).lower()\n",
        "    while not self.make_exit(reply):\n",
        "      reply = input(self.match_reply(reply))\n",
        "\n",
        "  def match_reply(self, reply):\n",
        "    for key, value in self.alienbabble.items():\n",
        "      intent = key\n",
        "      regex_pattern = value\n",
        "      found_match = re.match(regex_pattern, reply)\n",
        "      if found_match and intent == \"describe_planet_intent\" :\n",
        "        return self.describe_planet_intent()\n",
        "      elif found_match and intent == \"answer_why_intent\":\n",
        "        return self.answer_why_intent()\n",
        "      elif found_match and intent == \"about_Machine_Learning\" :\n",
        "        return self.about_Machine_Learning()\n",
        "      elif found_match and intent == \"about_session\" :\n",
        "        return self.about_session()\n",
        "    if not found_match :\n",
        "      return self.no_match_intent()\n",
        "\n",
        "\n",
        "  def descriibe_planet_intent(self) :\n",
        "            responses = (\"My planet is a utopia of diverse organisms and species.\\n\"\n",
        "                         \"I am frim Opidipus, the capital of the Wayward Galaxies. \\n\")\n",
        "            return random.choice(responses)\n",
        "\n",
        "  def answer_why_intent(self) :\n",
        "            responses = (\"I come in peace\\n\", \"I am here to collect data on your planet and its inhabitants\\n\",\n",
        "                        \"I heard the coffee is good\\n\")\n",
        "            return random.choice(responses)\n",
        "\n",
        "\n",
        "  def about_session(self):\n",
        "        responses = (\"Sessio is on 14th Aug 2022 \\n\" , \"Session was cool!!\")\n",
        "        return random.choice(responses)\n",
        "\n",
        "  def about_Machine_Learning(self):\n",
        "        responses = (\"Machine learning (ML) is a field of study in artificial intelligence concerned with the development and study of statistical algorithms that can learn from data and generalize to unseen data and thus perform tasks without explicit instructions\\n\",\n",
        "                     \"ML finds application in many fields, including natural language processing, computer vision, speech recognition, email filtering, agriculture, and medicine\\n,\"\n",
        "                     \"machine learning is statistically based, computational statistics is an important source of the field's methods. \\n\")\n",
        "        return random.choice(responses)\n",
        "\n",
        "  def no_match_intent(self):\n",
        "     responses = (\n",
        "         \"Please tell me more.\\n\", \"Tell me more!\\n\", \"Why do you say that?\\n\", \"I see. Can you elaborate?\\n\",\n",
        "         \"Interesting. Can you tell me more?\\n\", \"I see. How do you think?\\n\", \"Why?\\n\",\n",
        "         \"How do you think I feel when you say that?\\n\")\n",
        "     return random.choice(responses)\n",
        "\n",
        "AlienBot = RuleBot()\n",
        "AlienBot.greet()\n",
        "\n",
        "\n",
        "\n",
        "\n",
        "\n",
        "\n",
        "\n",
        "\n"
      ],
      "metadata": {
        "id": "L2cyVpqkU1VP"
      },
      "execution_count": null,
      "outputs": []
    },
    {
      "cell_type": "code",
      "source": [],
      "metadata": {
        "id": "8OkkJonDGwOO"
      },
      "execution_count": null,
      "outputs": []
    }
  ]
}